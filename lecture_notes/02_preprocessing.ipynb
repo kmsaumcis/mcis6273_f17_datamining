{
 "cells": [
  {
   "cell_type": "markdown",
   "metadata": {},
   "source": [
    "```\n",
    "lecture 2\n",
    "\tconcepts and theory\n",
    "\t\tdata types\n",
    "\t\t\tnumeric\n",
    "\t\t\tcategorical\n",
    "\t\t\tbinary\n",
    "\t\t\tscaled\n",
    "\t\t\tordinal\n",
    "\t\tsource data formats\n",
    "\t\t\tstructured\n",
    "\t\t\t\txml\n",
    "\t\t\t\tcsv\n",
    "\t\t\t\tdata tables (SQL)\n",
    "\t\t\t\tjson\n",
    "\t\t\tunstructured\n",
    "\t\t\t\ttext\n",
    "\t\t\t\t*HTML\n",
    "\t\tpre-processing\n",
    "\t\t\tcleaning + adjusting\n",
    "\t\t\t\tscaling\n",
    "\t\t\t\tdiscretization\n",
    "\t\t\t\tnormalization\n",
    "\t\t\t\timputing\n",
    "\t\t\tmissing data\n",
    "\t\t\t\t\n",
    "                techniques\n",
    "\t\t\t\t\tdelete features (columns)\n",
    "\t\t\t\t\tdelete instances (rows)\n",
    "\t\t\t\t\tinterpolation\n",
    "\t\t\t\t\t\tpiecewise constant\n",
    "\t\t\t\t\t\tlinear\n",
    "\t\t\t\t\t\tpolynomial\n",
    "\t\t\t\t\t\tspline\n",
    "\t\t\t\t\tregression\n",
    "\t\t\t\t\t\tlinear\n",
    "\t\t\t\t\tnearest neighbors\n",
    "\t\t\tsampling\n",
    "\t\t\tissues\n",
    "\t\t\t\tnumeric data vs categorical\n",
    "\t\tSubtopic 5\n",
    "\tapplication\n",
    "\t\tobtaining data with Python\n",
    "\t\t\tcsv library\n",
    "\t\t\trequests library\n",
    "\t\t\tpandas\n",
    "\t\tprocessing and manipulating data with Python\n",
    "\t\t\tSubtopic 1\n",
    "\tassignment 1\n",
    "```"
   ]
  },
  {
   "cell_type": "code",
   "execution_count": null,
   "metadata": {
    "collapsed": true
   },
   "outputs": [],
   "source": []
  }
 ],
 "metadata": {
  "kernelspec": {
   "display_name": "Python 3",
   "language": "python",
   "name": "python3"
  },
  "language_info": {
   "codemirror_mode": {
    "name": "ipython",
    "version": 3
   },
   "file_extension": ".py",
   "mimetype": "text/x-python",
   "name": "python",
   "nbconvert_exporter": "python",
   "pygments_lexer": "ipython3",
   "version": "3.6.1"
  }
 },
 "nbformat": 4,
 "nbformat_minor": 2
}
