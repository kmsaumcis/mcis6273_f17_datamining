{
 "cells": [
  {
   "cell_type": "markdown",
   "metadata": {},
   "source": [
    "```\n",
    "lecture 1\n",
    "\tclass policies\n",
    "\tclass tools\n",
    "\t\tGithub\n",
    "\t\tPython\n",
    "\t\tJupyter Notebooks\n",
    "\tintroduction to data mining\n",
    "\t\tconcepts\n",
    "\t\twhat is data mining\n",
    "\t\tdata topologies (databases, data warehouses, etc.)\n",
    "\t\tdata (open, public, etc.)\n",
    "\t\tdata mining workflow\n",
    "```"
   ]
  },
  {
   "cell_type": "markdown",
   "metadata": {},
   "source": []
  },
  {
   "cell_type": "code",
   "execution_count": null,
   "metadata": {
    "collapsed": true
   },
   "outputs": [],
   "source": []
  }
 ],
 "metadata": {
  "kernelspec": {
   "display_name": "Python 3",
   "language": "python",
   "name": "python3"
  },
  "language_info": {
   "codemirror_mode": {
    "name": "ipython",
    "version": 3
   },
   "file_extension": ".py",
   "mimetype": "text/x-python",
   "name": "python",
   "nbconvert_exporter": "python",
   "pygments_lexer": "ipython3",
   "version": "3.6.1"
  }
 },
 "nbformat": 4,
 "nbformat_minor": 2
}
